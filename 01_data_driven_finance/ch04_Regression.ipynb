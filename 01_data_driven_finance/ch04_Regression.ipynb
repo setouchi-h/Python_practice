{
 "cells": [
  {
   "cell_type": "code",
   "execution_count": 35,
   "metadata": {},
   "outputs": [],
   "source": [
    "import pandas as pd\n",
    "import numpy as np\n",
    "import matplotlib.pyplot as plt\n",
    "from sklearn.model_selection import train_test_split\n",
    "from sklearn import linear_model\n",
    "from sklearn.metrics import mean_squared_error\n",
    "from sklearn.preprocessing import PolynomialFeatures"
   ]
  },
  {
   "cell_type": "code",
   "execution_count": 4,
   "metadata": {},
   "outputs": [],
   "source": [
    "df_price = pd.read_csv(\"data/ch04_stock_price.csv\", index_col=\"Date\")\n",
    "df_interest_rate = pd.read_csv(\"data/ch04_interest_rate.csv\", index_col=\"Date\")"
   ]
  },
  {
   "cell_type": "code",
   "execution_count": 5,
   "metadata": {},
   "outputs": [
    {
     "data": {
      "text/html": [
       "<div>\n",
       "<style scoped>\n",
       "    .dataframe tbody tr th:only-of-type {\n",
       "        vertical-align: middle;\n",
       "    }\n",
       "\n",
       "    .dataframe tbody tr th {\n",
       "        vertical-align: top;\n",
       "    }\n",
       "\n",
       "    .dataframe thead th {\n",
       "        text-align: right;\n",
       "    }\n",
       "</style>\n",
       "<table border=\"1\" class=\"dataframe\">\n",
       "  <thead>\n",
       "    <tr style=\"text-align: right;\">\n",
       "      <th></th>\n",
       "      <th>SP500</th>\n",
       "      <th>MCD</th>\n",
       "    </tr>\n",
       "    <tr>\n",
       "      <th>Date</th>\n",
       "      <th></th>\n",
       "      <th></th>\n",
       "    </tr>\n",
       "  </thead>\n",
       "  <tbody>\n",
       "    <tr>\n",
       "      <th>2016-06-06</th>\n",
       "      <td>NaN</td>\n",
       "      <td>NaN</td>\n",
       "    </tr>\n",
       "    <tr>\n",
       "      <th>2016-06-07</th>\n",
       "      <td>0.001289</td>\n",
       "      <td>-0.000820</td>\n",
       "    </tr>\n",
       "    <tr>\n",
       "      <th>2016-06-08</th>\n",
       "      <td>0.003310</td>\n",
       "      <td>0.001723</td>\n",
       "    </tr>\n",
       "    <tr>\n",
       "      <th>2016-06-09</th>\n",
       "      <td>-0.001718</td>\n",
       "      <td>0.005569</td>\n",
       "    </tr>\n",
       "    <tr>\n",
       "      <th>2016-06-10</th>\n",
       "      <td>-0.009175</td>\n",
       "      <td>-0.003502</td>\n",
       "    </tr>\n",
       "    <tr>\n",
       "      <th>...</th>\n",
       "      <td>...</td>\n",
       "      <td>...</td>\n",
       "    </tr>\n",
       "    <tr>\n",
       "      <th>2021-05-27</th>\n",
       "      <td>0.001165</td>\n",
       "      <td>0.010803</td>\n",
       "    </tr>\n",
       "    <tr>\n",
       "      <th>2021-05-28</th>\n",
       "      <td>0.000769</td>\n",
       "      <td>0.001370</td>\n",
       "    </tr>\n",
       "    <tr>\n",
       "      <th>2021-06-01</th>\n",
       "      <td>-0.000492</td>\n",
       "      <td>-0.002779</td>\n",
       "    </tr>\n",
       "    <tr>\n",
       "      <th>2021-06-02</th>\n",
       "      <td>0.001447</td>\n",
       "      <td>0.002315</td>\n",
       "    </tr>\n",
       "    <tr>\n",
       "      <th>2021-06-03</th>\n",
       "      <td>-0.003629</td>\n",
       "      <td>-0.005689</td>\n",
       "    </tr>\n",
       "  </tbody>\n",
       "</table>\n",
       "<p>1258 rows × 2 columns</p>\n",
       "</div>"
      ],
      "text/plain": [
       "               SP500       MCD\n",
       "Date                          \n",
       "2016-06-06       NaN       NaN\n",
       "2016-06-07  0.001289 -0.000820\n",
       "2016-06-08  0.003310  0.001723\n",
       "2016-06-09 -0.001718  0.005569\n",
       "2016-06-10 -0.009175 -0.003502\n",
       "...              ...       ...\n",
       "2021-05-27  0.001165  0.010803\n",
       "2021-05-28  0.000769  0.001370\n",
       "2021-06-01 -0.000492 -0.002779\n",
       "2021-06-02  0.001447  0.002315\n",
       "2021-06-03 -0.003629 -0.005689\n",
       "\n",
       "[1258 rows x 2 columns]"
      ]
     },
     "execution_count": 5,
     "metadata": {},
     "output_type": "execute_result"
    }
   ],
   "source": [
    "df_rate = df_price.pct_change()\n",
    "df_rate"
   ]
  },
  {
   "cell_type": "code",
   "execution_count": 6,
   "metadata": {},
   "outputs": [
    {
     "data": {
      "text/html": [
       "<div>\n",
       "<style scoped>\n",
       "    .dataframe tbody tr th:only-of-type {\n",
       "        vertical-align: middle;\n",
       "    }\n",
       "\n",
       "    .dataframe tbody tr th {\n",
       "        vertical-align: top;\n",
       "    }\n",
       "\n",
       "    .dataframe thead th {\n",
       "        text-align: right;\n",
       "    }\n",
       "</style>\n",
       "<table border=\"1\" class=\"dataframe\">\n",
       "  <thead>\n",
       "    <tr style=\"text-align: right;\">\n",
       "      <th></th>\n",
       "      <th>SP500</th>\n",
       "      <th>MCD</th>\n",
       "      <th>^TNX</th>\n",
       "    </tr>\n",
       "    <tr>\n",
       "      <th>Date</th>\n",
       "      <th></th>\n",
       "      <th></th>\n",
       "      <th></th>\n",
       "    </tr>\n",
       "  </thead>\n",
       "  <tbody>\n",
       "    <tr>\n",
       "      <th>2016-06-06</th>\n",
       "      <td>NaN</td>\n",
       "      <td>NaN</td>\n",
       "      <td>1.723</td>\n",
       "    </tr>\n",
       "    <tr>\n",
       "      <th>2016-06-07</th>\n",
       "      <td>0.001289</td>\n",
       "      <td>-0.000820</td>\n",
       "      <td>1.713</td>\n",
       "    </tr>\n",
       "    <tr>\n",
       "      <th>2016-06-08</th>\n",
       "      <td>0.003310</td>\n",
       "      <td>0.001723</td>\n",
       "      <td>1.706</td>\n",
       "    </tr>\n",
       "    <tr>\n",
       "      <th>2016-06-09</th>\n",
       "      <td>-0.001718</td>\n",
       "      <td>0.005569</td>\n",
       "      <td>1.680</td>\n",
       "    </tr>\n",
       "    <tr>\n",
       "      <th>2016-06-10</th>\n",
       "      <td>-0.009175</td>\n",
       "      <td>-0.003502</td>\n",
       "      <td>1.639</td>\n",
       "    </tr>\n",
       "    <tr>\n",
       "      <th>...</th>\n",
       "      <td>...</td>\n",
       "      <td>...</td>\n",
       "      <td>...</td>\n",
       "    </tr>\n",
       "    <tr>\n",
       "      <th>2021-05-27</th>\n",
       "      <td>0.001165</td>\n",
       "      <td>0.010803</td>\n",
       "      <td>1.610</td>\n",
       "    </tr>\n",
       "    <tr>\n",
       "      <th>2021-05-28</th>\n",
       "      <td>0.000769</td>\n",
       "      <td>0.001370</td>\n",
       "      <td>1.581</td>\n",
       "    </tr>\n",
       "    <tr>\n",
       "      <th>2021-06-01</th>\n",
       "      <td>-0.000492</td>\n",
       "      <td>-0.002779</td>\n",
       "      <td>1.615</td>\n",
       "    </tr>\n",
       "    <tr>\n",
       "      <th>2021-06-02</th>\n",
       "      <td>0.001447</td>\n",
       "      <td>0.002315</td>\n",
       "      <td>1.591</td>\n",
       "    </tr>\n",
       "    <tr>\n",
       "      <th>2021-06-03</th>\n",
       "      <td>-0.003629</td>\n",
       "      <td>-0.005689</td>\n",
       "      <td>1.625</td>\n",
       "    </tr>\n",
       "  </tbody>\n",
       "</table>\n",
       "<p>1246 rows × 3 columns</p>\n",
       "</div>"
      ],
      "text/plain": [
       "               SP500       MCD   ^TNX\n",
       "Date                                 \n",
       "2016-06-06       NaN       NaN  1.723\n",
       "2016-06-07  0.001289 -0.000820  1.713\n",
       "2016-06-08  0.003310  0.001723  1.706\n",
       "2016-06-09 -0.001718  0.005569  1.680\n",
       "2016-06-10 -0.009175 -0.003502  1.639\n",
       "...              ...       ...    ...\n",
       "2021-05-27  0.001165  0.010803  1.610\n",
       "2021-05-28  0.000769  0.001370  1.581\n",
       "2021-06-01 -0.000492 -0.002779  1.615\n",
       "2021-06-02  0.001447  0.002315  1.591\n",
       "2021-06-03 -0.003629 -0.005689  1.625\n",
       "\n",
       "[1246 rows x 3 columns]"
      ]
     },
     "execution_count": 6,
     "metadata": {},
     "output_type": "execute_result"
    }
   ],
   "source": [
    "# MCD: マクドナルド米国本社の株価\n",
    "# ^TNX: 米国１０年債の利回り\n",
    "df_rate = pd.concat([df_rate, df_interest_rate[\"Adj Close\"]], axis=1, join=\"inner\")\n",
    "df_rate.columns = [\"SP500\", \"MCD\", \"^TNX\"]\n",
    "df_rate"
   ]
  },
  {
   "cell_type": "code",
   "execution_count": 7,
   "metadata": {},
   "outputs": [
    {
     "data": {
      "text/html": [
       "<div>\n",
       "<style scoped>\n",
       "    .dataframe tbody tr th:only-of-type {\n",
       "        vertical-align: middle;\n",
       "    }\n",
       "\n",
       "    .dataframe tbody tr th {\n",
       "        vertical-align: top;\n",
       "    }\n",
       "\n",
       "    .dataframe thead th {\n",
       "        text-align: right;\n",
       "    }\n",
       "</style>\n",
       "<table border=\"1\" class=\"dataframe\">\n",
       "  <thead>\n",
       "    <tr style=\"text-align: right;\">\n",
       "      <th></th>\n",
       "      <th>SP500</th>\n",
       "      <th>MCD</th>\n",
       "    </tr>\n",
       "    <tr>\n",
       "      <th>Date</th>\n",
       "      <th></th>\n",
       "      <th></th>\n",
       "    </tr>\n",
       "  </thead>\n",
       "  <tbody>\n",
       "    <tr>\n",
       "      <th>2016-06-06</th>\n",
       "      <td>NaN</td>\n",
       "      <td>NaN</td>\n",
       "    </tr>\n",
       "    <tr>\n",
       "      <th>2016-06-07</th>\n",
       "      <td>0.001222</td>\n",
       "      <td>-0.000887</td>\n",
       "    </tr>\n",
       "    <tr>\n",
       "      <th>2016-06-08</th>\n",
       "      <td>0.003243</td>\n",
       "      <td>0.001656</td>\n",
       "    </tr>\n",
       "    <tr>\n",
       "      <th>2016-06-09</th>\n",
       "      <td>-0.001784</td>\n",
       "      <td>0.005503</td>\n",
       "    </tr>\n",
       "    <tr>\n",
       "      <th>2016-06-10</th>\n",
       "      <td>-0.009239</td>\n",
       "      <td>-0.003566</td>\n",
       "    </tr>\n",
       "    <tr>\n",
       "      <th>...</th>\n",
       "      <td>...</td>\n",
       "      <td>...</td>\n",
       "    </tr>\n",
       "    <tr>\n",
       "      <th>2021-05-27</th>\n",
       "      <td>0.001102</td>\n",
       "      <td>0.010740</td>\n",
       "    </tr>\n",
       "    <tr>\n",
       "      <th>2021-05-28</th>\n",
       "      <td>0.000707</td>\n",
       "      <td>0.001308</td>\n",
       "    </tr>\n",
       "    <tr>\n",
       "      <th>2021-06-01</th>\n",
       "      <td>-0.000556</td>\n",
       "      <td>-0.002842</td>\n",
       "    </tr>\n",
       "    <tr>\n",
       "      <th>2021-06-02</th>\n",
       "      <td>0.001385</td>\n",
       "      <td>0.002253</td>\n",
       "    </tr>\n",
       "    <tr>\n",
       "      <th>2021-06-03</th>\n",
       "      <td>-0.003692</td>\n",
       "      <td>-0.005753</td>\n",
       "    </tr>\n",
       "  </tbody>\n",
       "</table>\n",
       "<p>1246 rows × 2 columns</p>\n",
       "</div>"
      ],
      "text/plain": [
       "               SP500       MCD\n",
       "Date                          \n",
       "2016-06-06       NaN       NaN\n",
       "2016-06-07  0.001222 -0.000887\n",
       "2016-06-08  0.003243  0.001656\n",
       "2016-06-09 -0.001784  0.005503\n",
       "2016-06-10 -0.009239 -0.003566\n",
       "...              ...       ...\n",
       "2021-05-27  0.001102  0.010740\n",
       "2021-05-28  0.000707  0.001308\n",
       "2021-06-01 -0.000556 -0.002842\n",
       "2021-06-02  0.001385  0.002253\n",
       "2021-06-03 -0.003692 -0.005753\n",
       "\n",
       "[1246 rows x 2 columns]"
      ]
     },
     "execution_count": 7,
     "metadata": {},
     "output_type": "execute_result"
    }
   ],
   "source": [
    "# リスク・プレミアム算出\n",
    "df_rp = pd.DataFrame()\n",
    "df_rp[\"SP500\"] = df_rate[\"SP500\"] - df_rate[\"^TNX\"] * 0.01 / 255\n",
    "df_rp[\"MCD\"] = df_rate[\"MCD\"] - df_rate[\"^TNX\"] * 0.01 / 255\n",
    "df_rp"
   ]
  },
  {
   "cell_type": "code",
   "execution_count": 8,
   "metadata": {},
   "outputs": [
    {
     "data": {
      "text/html": [
       "<div>\n",
       "<style scoped>\n",
       "    .dataframe tbody tr th:only-of-type {\n",
       "        vertical-align: middle;\n",
       "    }\n",
       "\n",
       "    .dataframe tbody tr th {\n",
       "        vertical-align: top;\n",
       "    }\n",
       "\n",
       "    .dataframe thead th {\n",
       "        text-align: right;\n",
       "    }\n",
       "</style>\n",
       "<table border=\"1\" class=\"dataframe\">\n",
       "  <thead>\n",
       "    <tr style=\"text-align: right;\">\n",
       "      <th></th>\n",
       "      <th>SP500</th>\n",
       "      <th>MCD</th>\n",
       "    </tr>\n",
       "    <tr>\n",
       "      <th>Date</th>\n",
       "      <th></th>\n",
       "      <th></th>\n",
       "    </tr>\n",
       "  </thead>\n",
       "  <tbody>\n",
       "    <tr>\n",
       "      <th>2016-06-07</th>\n",
       "      <td>0.001222</td>\n",
       "      <td>-0.000887</td>\n",
       "    </tr>\n",
       "    <tr>\n",
       "      <th>2016-06-08</th>\n",
       "      <td>0.003243</td>\n",
       "      <td>0.001656</td>\n",
       "    </tr>\n",
       "    <tr>\n",
       "      <th>2016-06-09</th>\n",
       "      <td>-0.001784</td>\n",
       "      <td>0.005503</td>\n",
       "    </tr>\n",
       "    <tr>\n",
       "      <th>2016-06-10</th>\n",
       "      <td>-0.009239</td>\n",
       "      <td>-0.003566</td>\n",
       "    </tr>\n",
       "    <tr>\n",
       "      <th>2016-06-13</th>\n",
       "      <td>-0.008179</td>\n",
       "      <td>0.005085</td>\n",
       "    </tr>\n",
       "    <tr>\n",
       "      <th>...</th>\n",
       "      <td>...</td>\n",
       "      <td>...</td>\n",
       "    </tr>\n",
       "    <tr>\n",
       "      <th>2021-05-27</th>\n",
       "      <td>0.001102</td>\n",
       "      <td>0.010740</td>\n",
       "    </tr>\n",
       "    <tr>\n",
       "      <th>2021-05-28</th>\n",
       "      <td>0.000707</td>\n",
       "      <td>0.001308</td>\n",
       "    </tr>\n",
       "    <tr>\n",
       "      <th>2021-06-01</th>\n",
       "      <td>-0.000556</td>\n",
       "      <td>-0.002842</td>\n",
       "    </tr>\n",
       "    <tr>\n",
       "      <th>2021-06-02</th>\n",
       "      <td>0.001385</td>\n",
       "      <td>0.002253</td>\n",
       "    </tr>\n",
       "    <tr>\n",
       "      <th>2021-06-03</th>\n",
       "      <td>-0.003692</td>\n",
       "      <td>-0.005753</td>\n",
       "    </tr>\n",
       "  </tbody>\n",
       "</table>\n",
       "<p>1245 rows × 2 columns</p>\n",
       "</div>"
      ],
      "text/plain": [
       "               SP500       MCD\n",
       "Date                          \n",
       "2016-06-07  0.001222 -0.000887\n",
       "2016-06-08  0.003243  0.001656\n",
       "2016-06-09 -0.001784  0.005503\n",
       "2016-06-10 -0.009239 -0.003566\n",
       "2016-06-13 -0.008179  0.005085\n",
       "...              ...       ...\n",
       "2021-05-27  0.001102  0.010740\n",
       "2021-05-28  0.000707  0.001308\n",
       "2021-06-01 -0.000556 -0.002842\n",
       "2021-06-02  0.001385  0.002253\n",
       "2021-06-03 -0.003692 -0.005753\n",
       "\n",
       "[1245 rows x 2 columns]"
      ]
     },
     "execution_count": 8,
     "metadata": {},
     "output_type": "execute_result"
    }
   ],
   "source": [
    "df_rp = df_rp.dropna()\n",
    "df_rp"
   ]
  },
  {
   "cell_type": "code",
   "execution_count": 15,
   "metadata": {},
   "outputs": [
    {
     "data": {
      "text/plain": [
       "Text(0, 0.5, 'MCD')"
      ]
     },
     "execution_count": 15,
     "metadata": {},
     "output_type": "execute_result"
    },
    {
     "data": {
      "image/png": "[encoded data removed]",
      "text/plain": [
       "<Figure size 640x480 with 1 Axes>"
      ]
     },
     "metadata": {},
     "output_type": "display_data"
    }
   ],
   "source": [
    "plt.scatter(df_rp[\"SP500\"], df_rp[\"MCD\"], color=\"black\")\n",
    "\n",
    "plt.xlabel(\"SP500\")\n",
    "plt.ylabel(\"MCD\")"
   ]
  },
  {
   "cell_type": "code",
   "execution_count": 19,
   "metadata": {},
   "outputs": [],
   "source": [
    "val_size = 0.2\n",
    "df_train, df_val = train_test_split(df_rp, test_size=val_size, shuffle=False)"
   ]
  },
  {
   "cell_type": "code",
   "execution_count": 22,
   "metadata": {},
   "outputs": [],
   "source": [
    "X_train = df_train.sort_values(\"SP500\")[\"SP500\"]\n",
    "X_val = df_val.sort_values(\"SP500\")[\"SP500\"]\n",
    "\n",
    "y_train = df_train.sort_values(\"SP500\")[\"MCD\"]\n",
    "y_val = df_val.sort_values(\"SP500\")[\"MCD\"]"
   ]
  },
  {
   "cell_type": "code",
   "execution_count": 31,
   "metadata": {},
   "outputs": [
    {
     "name": "stdout",
     "output_type": "stream",
     "text": [
      "0.00026777831694420584\n",
      "[0.82544637]\n"
     ]
    }
   ],
   "source": [
    "reg = linear_model.LinearRegression()\n",
    "reg.fit(X_train.values.reshape(-1, 1), y_train.values)\n",
    "pred_train_1 = reg.predict(X_train.values.reshape(-1, 1))\n",
    "\n",
    "print(reg.intercept_)\n",
    "print(reg.coef_)"
   ]
  },
  {
   "cell_type": "code",
   "execution_count": 32,
   "metadata": {},
   "outputs": [
    {
     "name": "stdout",
     "output_type": "stream",
     "text": [
      "0.0\n",
      "[0.8261595]\n"
     ]
    }
   ],
   "source": [
    "# CAPMの理論通り、切片がないとき\n",
    "reg_0 = linear_model.LinearRegression(fit_intercept=False)\n",
    "reg_0.fit(X_train.values.reshape(-1, 1), y_train.values)\n",
    "pred_train_0 = reg_0.predict(X_train.values.reshape(-1, 1))\n",
    "\n",
    "print(reg_0.intercept_)\n",
    "print(reg_0.coef_)"
   ]
  },
  {
   "cell_type": "code",
   "execution_count": 34,
   "metadata": {},
   "outputs": [
    {
     "name": "stdout",
     "output_type": "stream",
     "text": [
      "0.00013072623392365067\n",
      "0.00013065460681415818\n"
     ]
    }
   ],
   "source": [
    "MSE0 = mean_squared_error(pred_train_0, y_train)\n",
    "MSE1 = mean_squared_error(pred_train_1, y_train)\n",
    "\n",
    "print(MSE0)\n",
    "print(MSE1)"
   ]
  },
  {
   "cell_type": "code",
   "execution_count": 39,
   "metadata": {},
   "outputs": [
    {
     "name": "stdout",
     "output_type": "stream",
     "text": [
      "0.0005591747261244887\n",
      "[ 0.00000000e+00  5.96703298e-01 -2.09378185e+00  4.80747082e+01\n",
      "  3.39018082e+02  1.71746614e+03]\n"
     ]
    }
   ],
   "source": [
    "poly = PolynomialFeatures(degree = 5)\n",
    "\n",
    "X_train_poly = poly.fit_transform(X_train.values.reshape(-1, 1))\n",
    "poly_reg = linear_model.LinearRegression().fit(X_train_poly, y_train.values)\n",
    "\n",
    "print(poly_reg.intercept_)\n",
    "print(poly_reg.coef_)"
   ]
  },
  {
   "cell_type": "code",
   "execution_count": 42,
   "metadata": {},
   "outputs": [
    {
     "data": {
      "text/plain": [
       "Text(0, 0.5, 'MCD')"
      ]
     },
     "execution_count": 42,
     "metadata": {},
     "output_type": "execute_result"
    },
    {
     "data": {
      "image/png": "[encoded data removed]",
      "text/plain": [
       "<Figure size 640x480 with 1 Axes>"
      ]
     },
     "metadata": {},
     "output_type": "display_data"
    }
   ],
   "source": [
    "pred_train_5 = poly_reg.predict(X_train_poly)\n",
    "plt.scatter(X_train.values, y_train.values, color=\"black\")\n",
    "plt.plot(X_train.values, pred_train_5, color=\"red\")\n",
    "plt.xlabel(\"SP500\")\n",
    "plt.ylabel(\"MCD\")"
   ]
  },
  {
   "cell_type": "code",
   "execution_count": 43,
   "metadata": {},
   "outputs": [
    {
     "name": "stdout",
     "output_type": "stream",
     "text": [
      "0.00012051143117314137\n"
     ]
    }
   ],
   "source": [
    "MSE5 = mean_squared_error(pred_train_5, y_train)\n",
    "print(MSE5)"
   ]
  }
 ],
 "metadata": {
  "kernelspec": {
   "display_name": "01_data_driven_finance",
   "language": "python",
   "name": "python3"
  },
  "language_info": {
   "codemirror_mode": {
    "name": "ipython",
    "version": 3
   },
   "file_extension": ".py",
   "mimetype": "text/x-python",
   "name": "python",
   "nbconvert_exporter": "python",
   "pygments_lexer": "ipython3",
   "version": "3.11.0"
  },
  "orig_nbformat": 4,
  "vscode": {
   "interpreter": {
    "hash": "cebf60e922fa525ab1d55a7e3fb7e70eee96c2a70a8f7079108397c3ae4e17d8"
   }
  }
 },
 "nbformat": 4,
 "nbformat_minor": 2
}
